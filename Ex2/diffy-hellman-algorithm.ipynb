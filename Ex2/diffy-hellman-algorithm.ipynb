{
 "cells": [
  {
   "cell_type": "code",
   "execution_count": 1,
   "metadata": {},
   "outputs": [],
   "source": [
    "import random\n",
    "g = 2\n",
    "n = random.randint(1000,9999)"
   ]
  },
  {
   "cell_type": "code",
   "execution_count": 2,
   "metadata": {},
   "outputs": [],
   "source": [
    "def gen_private_key(g, n, random_number):\n",
    "    private_key = (g**random_number) % n\n",
    "    return(private_key)\n",
    "\n",
    "\n",
    "def calculate_session_key(private_key, random_number):\n",
    "    session_key = (private_key**random_number) % n\n",
    "    return(session_key)\n",
    "\n"
   ]
  },
  {
   "cell_type": "code",
   "execution_count": 3,
   "metadata": {},
   "outputs": [],
   "source": [
    "## A\n",
    "a_random_number = random.randint(1000,9999)\n",
    "a_key = gen_private_key(g, n, a_random_number)\n",
    "\n",
    "## B\n",
    "b_random_number = random.randint(1000,9999)\n",
    "b_key = gen_private_key(g, n, b_random_number)"
   ]
  },
  {
   "cell_type": "code",
   "execution_count": 4,
   "metadata": {},
   "outputs": [],
   "source": [
    "## A\n",
    "a_session_key = calculate_session_key(b_key, a_random_number)\n",
    "\n",
    "## B\n",
    "b_session_key = calculate_session_key(a_key, b_random_number)"
   ]
  },
  {
   "cell_type": "code",
   "execution_count": 5,
   "metadata": {},
   "outputs": [
    {
     "data": {
      "text/plain": [
       "True"
      ]
     },
     "execution_count": 5,
     "metadata": {},
     "output_type": "execute_result"
    }
   ],
   "source": [
    "a_session_key == b_session_key"
   ]
  }
 ],
 "metadata": {
  "kernelspec": {
   "display_name": "Python 3",
   "language": "python",
   "name": "python3"
  },
  "language_info": {
   "codemirror_mode": {
    "name": "ipython",
    "version": 3
   },
   "file_extension": ".py",
   "mimetype": "text/x-python",
   "name": "python",
   "nbconvert_exporter": "python",
   "pygments_lexer": "ipython3",
   "version": "3.9.7"
  }
 },
 "nbformat": 4,
 "nbformat_minor": 2
}
