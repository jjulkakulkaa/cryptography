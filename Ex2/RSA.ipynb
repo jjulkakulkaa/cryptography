{
 "cells": [
  {
   "cell_type": "code",
   "execution_count": 1,
   "metadata": {},
   "outputs": [],
   "source": [
    "import random\n",
    "import sympy\n",
    "import math"
   ]
  },
  {
   "cell_type": "code",
   "execution_count": 2,
   "metadata": {},
   "outputs": [],
   "source": [
    "def generate_random_prime():\n",
    "    while True:\n",
    "        candidate = random.randint(1000, 9999)\n",
    "        if sympy.isprime(candidate):\n",
    "            return candidate      \n",
    "\n",
    "def gcd(a, b):\n",
    "    while b != 0:\n",
    "        a, b = b, a % b\n",
    "    return a\n",
    "\n",
    "def generate_e(phi):\n",
    "    while True:\n",
    "        e = random.randint(2, phi - 1)\n",
    "        if gcd(e, phi) == 1:\n",
    "            return e\n",
    "        \n",
    "def extended_gcd(a, b):\n",
    "    if a == 0:\n",
    "        return (b, 0, 1)\n",
    "    else:\n",
    "        g, y, x = extended_gcd(b % a, a)\n",
    "        return (g, x - (b // a) * y, y)\n",
    "\n",
    "def mod_inverse(e, phi):\n",
    "    g, x, y = extended_gcd(e, phi)\n",
    "    if g != 1:\n",
    "        raise Exception('Modular inverse does not exist')\n",
    "    else:\n",
    "        return x % phi"
   ]
  },
  {
   "cell_type": "code",
   "execution_count": 3,
   "metadata": {},
   "outputs": [],
   "source": [
    "def generate_keys():\n",
    "    p = generate_random_prime()\n",
    "    q = generate_random_prime()\n",
    "    n = p*q\n",
    "    phi = (p-1)*(q-1)\n",
    "    e = generate_e(phi)\n",
    "    d = mod_inverse(e, phi)\n",
    "\n",
    "    public_key = (e, n)\n",
    "    private_key = (d, n)\n",
    "\n",
    "    return (public_key, private_key)\n"
   ]
  },
  {
   "cell_type": "code",
   "execution_count": 4,
   "metadata": {},
   "outputs": [],
   "source": [
    "def encrypt_number(message, key):\n",
    "    e, n = key[0], key[1]\n",
    "    encrypted_number = pow(message, e, n) \n",
    "    return encrypted_number\n",
    "\n",
    "def decrypt_number(encrypted_number, key):\n",
    "    d, n = key[0], key[1]\n",
    "    decrypted_number = pow(encrypted_number, d, n)\n",
    "    return decrypted_number\n",
    "\n",
    "def encrypt_message(message, public_key):\n",
    "    numeric_message = [ord(char) for char in message]\n",
    "    encrypted_message = [encrypt_number(num, public_key) for num in numeric_message]\n",
    "    \n",
    "    return encrypted_message\n",
    "\n",
    "def decrypt_message(encrypted_message, private_key):\n",
    "    decrypted_numeric_message = [decrypt_number(num, private_key) for num in encrypted_message]\n",
    "    decrypted_message = ''.join([chr(num) for num in decrypted_numeric_message])\n",
    "    \n",
    "    return decrypted_message"
   ]
  },
  {
   "cell_type": "code",
   "execution_count": 5,
   "metadata": {},
   "outputs": [
    {
     "name": "stdout",
     "output_type": "stream",
     "text": [
      "public key:  (2850917, 14061331)  private key:  (3428253, 14061331)\n"
     ]
    }
   ],
   "source": [
    "keys = generate_keys()\n",
    "print(\"public key: \", keys[0], \" private key: \", keys[1])\n",
    "public_key = keys[0]\n",
    "private_key = keys[1]"
   ]
  },
  {
   "cell_type": "code",
   "execution_count": 7,
   "metadata": {},
   "outputs": [
    {
     "name": "stdout",
     "output_type": "stream",
     "text": [
      "llollllollllollllollllollllollllollllollllolllloll\n",
      "[13165130, 13165130, 915994, 13165130, 13165130, 13165130, 13165130, 915994, 13165130, 13165130, 13165130, 13165130, 915994, 13165130, 13165130, 13165130, 13165130, 915994, 13165130, 13165130, 13165130, 13165130, 915994, 13165130, 13165130, 13165130, 13165130, 915994, 13165130, 13165130, 13165130, 13165130, 915994, 13165130, 13165130, 13165130, 13165130, 915994, 13165130, 13165130, 13165130, 13165130, 915994, 13165130, 13165130, 13165130, 13165130, 915994, 13165130, 13165130]\n",
      "llollllollllollllollllollllollllollllollllolllloll\n"
     ]
    }
   ],
   "source": [
    "message = \"lloll\"*10\n",
    "print(message)\n",
    "encrypted_message = encrypt_message(message, public_key)\n",
    "print(encrypted_message)\n",
    "decrypted_message = decrypt_message(encrypted_message, private_key)\n",
    "print(decrypted_message)"
   ]
  }
 ],
 "metadata": {
  "kernelspec": {
   "display_name": "Python 3",
   "language": "python",
   "name": "python3"
  },
  "language_info": {
   "codemirror_mode": {
    "name": "ipython",
    "version": 3
   },
   "file_extension": ".py",
   "mimetype": "text/x-python",
   "name": "python",
   "nbconvert_exporter": "python",
   "pygments_lexer": "ipython3",
   "version": "3.9.7"
  }
 },
 "nbformat": 4,
 "nbformat_minor": 2
}
