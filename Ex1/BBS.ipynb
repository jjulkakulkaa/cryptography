{
  "cells": [
    {
      "cell_type": "code",
      "execution_count": null,
      "metadata": {
        "id": "0Xm1uRrJ-qQS"
      },
      "outputs": [],
      "source": [
        "bits_count = 20000"
      ]
    },
    {
      "cell_type": "code",
      "execution_count": null,
      "metadata": {
        "id": "dlRQLfVYA7pf"
      },
      "outputs": [],
      "source": [
        "from sympy import isprime\n",
        "import random\n",
        "\n",
        "def get_pq():\n",
        "  while True:\n",
        "    random_number = random.randint(1000, 9999)\n",
        "    if isprime(random_number) and random_number % 4 == 3:\n",
        "      break\n",
        "  return random_number\n",
        "\n",
        "def get_prime_number():\n",
        "  while True:\n",
        "    random_number = random.randint(1000, 9999)\n",
        "    if isprime(random_number):\n",
        "      break\n",
        "  return random_number"
      ]
    },
    {
      "cell_type": "code",
      "execution_count": null,
      "metadata": {
        "id": "XiJmaNik_FD1"
      },
      "outputs": [],
      "source": [
        "from sympy import isprime\n",
        "import random\n",
        "import math\n",
        "\n",
        "def gen_random_bits(bits_count):\n",
        "  bits_list = []\n",
        "  N = get_pq() * get_pq()\n",
        "  x = get_prime_number()\n",
        "  xi = x**2 % N\n",
        "  bits_list.append(xi % 2)\n",
        "  while len(bits_list) < bits_count:\n",
        "    xi = xi**2 % N\n",
        "    bits_list.append(xi % 2)\n",
        "  return bits_list"
      ]
    },
    {
      "cell_type": "code",
      "execution_count": null,
      "metadata": {
        "id": "zxQ-T_4tFnLl"
      },
      "outputs": [],
      "source": [
        "bits_list = gen_random_bits(20000)"
      ]
    },
    {
      "cell_type": "code",
      "execution_count": null,
      "metadata": {
        "colab": {
          "base_uri": "https://localhost:8080/"
        },
        "id": "JpGB3FDXHYIp",
        "outputId": "b4168411-63b9-433f-80e6-7bb9e5a978e2"
      },
      "outputs": [
        {
          "data": {
            "text/plain": [
              "True"
            ]
          },
          "execution_count": 13,
          "metadata": {},
          "output_type": "execute_result"
        }
      ],
      "source": [
        "def first_test(bits_list):\n",
        "  ones = sum(bits_list)\n",
        "  if ones > 9725 and ones < 10275:\n",
        "    return True\n",
        "  else:\n",
        "    return False\n",
        "first_test(bits_list)"
      ]
    },
    {
      "cell_type": "code",
      "execution_count": null,
      "metadata": {
        "colab": {
          "base_uri": "https://localhost:8080/"
        },
        "id": "8lMR5cdNI8Cc",
        "outputId": "28e7a1a0-e190-476e-822c-0fb6354be7f5"
      },
      "outputs": [
        {
          "name": "stdout",
          "output_type": "stream",
          "text": [
            "Value: 0\n",
            "Length: 1, Count: 2510 -> Passed\n",
            "Length: 2, Count: 1252 -> Passed\n",
            "Length: 3, Count: 637 -> Passed\n",
            "Length: 4, Count: 308 -> Passed\n",
            "Length: 5, Count: 157 -> Passed\n",
            "Length: 6_or_more, Count: 162 -> Passed\n",
            "Value: 1\n",
            "Length: 1, Count: 2547 -> Passed\n",
            "Length: 2, Count: 1275 -> Passed\n",
            "Length: 3, Count: 606 -> Passed\n",
            "Length: 4, Count: 298 -> Passed\n",
            "Length: 5, Count: 154 -> Passed\n",
            "Length: 6_or_more, Count: 146 -> Passed\n"
          ]
        }
      ],
      "source": [
        "from itertools import groupby\n",
        "\n",
        "def count_sequence_lengths(lst):\n",
        "    sequence_counts = {\n",
        "        0: {1: 0, 2: 0, 3: 0, 4: 0, 5: 0, '6_or_more': 0 },\n",
        "        1: {1: 0, 2: 0, 3: 0, 4: 0, 5: 0, '6_or_more': 0 }\n",
        "    }\n",
        "    for value, group in groupby(lst):\n",
        "        length = len(list(group))\n",
        "        if length <= 5:\n",
        "            sequence_counts[value][length] += 1\n",
        "        elif length >= 6:\n",
        "            sequence_counts[value]['6_or_more'] += 1\n",
        "    return sequence_counts\n",
        "\n",
        "\n",
        "def series_test(bits_list):\n",
        "  sequence_counts = count_sequence_lengths(bits_list)\n",
        "  length_ranges = {\n",
        "      1: (2315, 2685),\n",
        "      2: (1114, 1386),\n",
        "      3: (527, 723),\n",
        "      4: (240, 384),\n",
        "      5: (103, 209),\n",
        "      '6_or_more': (103, 209)\n",
        "  }\n",
        "  for value, counts in sequence_counts.items():\n",
        "        print(f\"Value: {value}\")\n",
        "        for length, count in counts.items():\n",
        "            if length != '6_or_more':\n",
        "                min_count, max_count = length_ranges[length]\n",
        "            else:\n",
        "                min_count, max_count = length_ranges['6_or_more']\n",
        "            if min_count <= count <= max_count:\n",
        "                print(f\"Length: {length}, Count: {count} -> Passed\")\n",
        "            else:\n",
        "                print(f\"Length: {length}, Count: {count} -> Failed\")\n",
        "\n",
        "\n",
        "\n",
        "series_test(bits_list)\n",
        "\n",
        "\n"
      ]
    },
    {
      "cell_type": "code",
      "execution_count": null,
      "metadata": {
        "colab": {
          "base_uri": "https://localhost:8080/"
        },
        "id": "T2YnXwEu_ppm",
        "outputId": "bb9111ac-e2ac-4809-eb98-1de40a0a8d7c"
      },
      "outputs": [
        {
          "data": {
            "text/plain": [
              "True"
            ]
          },
          "execution_count": 16,
          "metadata": {},
          "output_type": "execute_result"
        }
      ],
      "source": [
        "def long_series_test(lst):\n",
        "  for value, group in groupby(lst):\n",
        "    length = len(list(group))\n",
        "    if length >= 26:\n",
        "      return False\n",
        "  return True\n",
        "\n",
        "\n",
        "long_series_test(bits_list)"
      ]
    },
    {
      "cell_type": "code",
      "execution_count": null,
      "metadata": {
        "colab": {
          "background_save": true
        },
        "id": "1P-ESQ4pAq0J",
        "outputId": "798fc644-6215-44f1-a118-08eb3ce26e3d"
      },
      "outputs": [
        {
          "data": {
            "text/plain": [
              "True"
            ]
          },
          "execution_count": 20,
          "metadata": {},
          "output_type": "execute_result"
        }
      ],
      "source": [
        "def poker_test(lst):\n",
        "    segments = []\n",
        "    seg_length = len(lst) // 5000\n",
        "    segments = [lst[x * seg_length : (x + 1) * seg_length] for x in range(5000)]\n",
        "\n",
        "    poker_dict = {}\n",
        "    for segment in segments:\n",
        "        for i in range(0, len(segment), 4):\n",
        "            sub_series = tuple(segment[i : i + 4])  # Convert sub_series list to tuple\n",
        "            if sub_series in poker_dict:\n",
        "                poker_dict[sub_series] += 1\n",
        "            else:\n",
        "                poker_dict[sub_series] = 1\n",
        "\n",
        "    total_sum = 0\n",
        "    for key in poker_dict:\n",
        "        total_sum += poker_dict[key] ** 2\n",
        "\n",
        "    x = (16 / 5000) * total_sum - 5000\n",
        "    return 2.16 < x < 46.17\n",
        "\n",
        "\n",
        "poker_test(bits_list)"
      ]
    }
  ],
  "metadata": {
    "colab": {
      "provenance": []
    },
    "kernelspec": {
      "display_name": "Python 3",
      "name": "python3"
    },
    "language_info": {
      "name": "python"
    }
  },
  "nbformat": 4,
  "nbformat_minor": 0
}