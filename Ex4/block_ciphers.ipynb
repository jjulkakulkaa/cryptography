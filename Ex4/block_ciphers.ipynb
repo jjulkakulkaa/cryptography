{
 "cells": [
  {
   "cell_type": "markdown",
   "metadata": {},
   "source": [
    "### 1\n"
   ]
  },
  {
   "cell_type": "code",
   "execution_count": 6,
   "metadata": {},
   "outputs": [
    {
     "name": "stdout",
     "output_type": "stream",
     "text": [
      "Mode: ECB\n",
      "Plaintext size: 56 bytes\n"
     ]
    },
    {
     "ename": "TypeError",
     "evalue": "ECB() takes no arguments",
     "output_type": "error",
     "traceback": [
      "\u001b[1;31m---------------------------------------------------------------------------\u001b[0m",
      "\u001b[1;31mTypeError\u001b[0m                                 Traceback (most recent call last)",
      "\u001b[1;32m~\\AppData\\Local\\Temp/ipykernel_20496/1802563341.py\u001b[0m in \u001b[0;36m<module>\u001b[1;34m\u001b[0m\n\u001b[0;32m     55\u001b[0m         \u001b[0mplaintext_size\u001b[0m \u001b[1;33m=\u001b[0m \u001b[0mlen\u001b[0m\u001b[1;33m(\u001b[0m\u001b[0mplaintext\u001b[0m\u001b[1;33m)\u001b[0m \u001b[1;33m*\u001b[0m \u001b[0mi\u001b[0m\u001b[1;33m\u001b[0m\u001b[1;33m\u001b[0m\u001b[0m\n\u001b[0;32m     56\u001b[0m         \u001b[0mprint\u001b[0m\u001b[1;33m(\u001b[0m\u001b[1;34mf\"Plaintext size: {plaintext_size} bytes\"\u001b[0m\u001b[1;33m)\u001b[0m\u001b[1;33m\u001b[0m\u001b[1;33m\u001b[0m\u001b[0m\n\u001b[1;32m---> 57\u001b[1;33m         \u001b[0mencrypt_time\u001b[0m\u001b[1;33m,\u001b[0m \u001b[0mdecrypt_time\u001b[0m \u001b[1;33m=\u001b[0m \u001b[0mmeasure_time\u001b[0m\u001b[1;33m(\u001b[0m\u001b[0malgorithms\u001b[0m\u001b[1;33m[\u001b[0m\u001b[0mmode_name\u001b[0m\u001b[1;33m]\u001b[0m\u001b[1;33m,\u001b[0m \u001b[0mmode\u001b[0m\u001b[1;33m,\u001b[0m \u001b[0mplaintext\u001b[0m\u001b[1;33m[\u001b[0m\u001b[1;33m:\u001b[0m\u001b[0mplaintext_size\u001b[0m\u001b[1;33m]\u001b[0m\u001b[1;33m,\u001b[0m \u001b[0mkey\u001b[0m\u001b[1;33m,\u001b[0m \u001b[0miv\u001b[0m\u001b[1;33m)\u001b[0m\u001b[1;33m\u001b[0m\u001b[1;33m\u001b[0m\u001b[0m\n\u001b[0m\u001b[0;32m     58\u001b[0m         \u001b[0mprint\u001b[0m\u001b[1;33m(\u001b[0m\u001b[1;34mf\"Encryption time: {encrypt_time} seconds\"\u001b[0m\u001b[1;33m)\u001b[0m\u001b[1;33m\u001b[0m\u001b[1;33m\u001b[0m\u001b[0m\n\u001b[0;32m     59\u001b[0m         \u001b[0mprint\u001b[0m\u001b[1;33m(\u001b[0m\u001b[1;34mf\"Decryption time: {decrypt_time} seconds\"\u001b[0m\u001b[1;33m)\u001b[0m\u001b[1;33m\u001b[0m\u001b[1;33m\u001b[0m\u001b[0m\n",
      "\u001b[1;32m~\\AppData\\Local\\Temp/ipykernel_20496/1802563341.py\u001b[0m in \u001b[0;36mmeasure_time\u001b[1;34m(algorithm, mode, plaintext, key, iv)\u001b[0m\n\u001b[0;32m      7\u001b[0m \u001b[1;32mdef\u001b[0m \u001b[0mmeasure_time\u001b[0m\u001b[1;33m(\u001b[0m\u001b[0malgorithm\u001b[0m\u001b[1;33m,\u001b[0m \u001b[0mmode\u001b[0m\u001b[1;33m,\u001b[0m \u001b[0mplaintext\u001b[0m\u001b[1;33m,\u001b[0m \u001b[0mkey\u001b[0m\u001b[1;33m,\u001b[0m \u001b[0miv\u001b[0m\u001b[1;33m=\u001b[0m\u001b[1;32mNone\u001b[0m\u001b[1;33m)\u001b[0m\u001b[1;33m:\u001b[0m\u001b[1;33m\u001b[0m\u001b[1;33m\u001b[0m\u001b[0m\n\u001b[0;32m      8\u001b[0m     \u001b[0mbackend\u001b[0m \u001b[1;33m=\u001b[0m \u001b[0mdefault_backend\u001b[0m\u001b[1;33m(\u001b[0m\u001b[1;33m)\u001b[0m\u001b[1;33m\u001b[0m\u001b[1;33m\u001b[0m\u001b[0m\n\u001b[1;32m----> 9\u001b[1;33m     \u001b[0mcipher\u001b[0m \u001b[1;33m=\u001b[0m \u001b[0mCipher\u001b[0m\u001b[1;33m(\u001b[0m\u001b[0malgorithm\u001b[0m\u001b[1;33m,\u001b[0m \u001b[0mmode\u001b[0m\u001b[1;33m(\u001b[0m\u001b[0miv\u001b[0m\u001b[1;33m)\u001b[0m \u001b[1;32mif\u001b[0m \u001b[0miv\u001b[0m \u001b[1;32melse\u001b[0m \u001b[0mmode\u001b[0m\u001b[1;33m(\u001b[0m\u001b[1;33m)\u001b[0m\u001b[1;33m,\u001b[0m \u001b[0mbackend\u001b[0m\u001b[1;33m=\u001b[0m\u001b[0mbackend\u001b[0m\u001b[1;33m)\u001b[0m\u001b[1;33m\u001b[0m\u001b[1;33m\u001b[0m\u001b[0m\n\u001b[0m\u001b[0;32m     10\u001b[0m     \u001b[0mencryptor\u001b[0m \u001b[1;33m=\u001b[0m \u001b[0mcipher\u001b[0m\u001b[1;33m.\u001b[0m\u001b[0mencryptor\u001b[0m\u001b[1;33m(\u001b[0m\u001b[1;33m)\u001b[0m\u001b[1;33m\u001b[0m\u001b[1;33m\u001b[0m\u001b[0m\n\u001b[0;32m     11\u001b[0m     \u001b[0mdecryptor\u001b[0m \u001b[1;33m=\u001b[0m \u001b[0mcipher\u001b[0m\u001b[1;33m.\u001b[0m\u001b[0mdecryptor\u001b[0m\u001b[1;33m(\u001b[0m\u001b[1;33m)\u001b[0m\u001b[1;33m\u001b[0m\u001b[1;33m\u001b[0m\u001b[0m\n",
      "\u001b[1;31mTypeError\u001b[0m: ECB() takes no arguments"
     ]
    }
   ],
   "source": [
    "import time\n",
    "from cryptography.hazmat.primitives.ciphers import Cipher, algorithms, modes\n",
    "from cryptography.hazmat.backends import default_backend\n",
    "from cryptography.hazmat.primitives import hashes\n",
    "\n",
    "# Funkcja do pomiaru czasu szyfrowania i deszyfrowania\n",
    "def measure_time(algorithm, mode, plaintext, key, iv=None):\n",
    "    backend = default_backend()\n",
    "    cipher = Cipher(algorithm, mode(iv) if iv else mode(), backend=backend)\n",
    "    encryptor = cipher.encryptor()\n",
    "    decryptor = cipher.decryptor()\n",
    "\n",
    "    start_encrypt = time.time()\n",
    "    ciphertext = encryptor.update(plaintext) + encryptor.finalize()\n",
    "    end_encrypt = time.time()\n",
    "\n",
    "    start_decrypt = time.time()\n",
    "    decryptedtext = decryptor.update(ciphertext) + decryptor.finalize()\n",
    "    end_decrypt = time.time()\n",
    "\n",
    "    encrypt_time = end_encrypt - start_encrypt\n",
    "    decrypt_time = end_decrypt - start_decrypt\n",
    "\n",
    "    return encrypt_time, decrypt_time\n",
    "\n",
    "# Przykładowe dane\n",
    "backend = default_backend()\n",
    "plaintext = b\"Lorem ipsum dolor sit amet, consectetur adipiscing elit.\"\n",
    "key = b\"supersecretpass\"\n",
    "digest = hashes.Hash(hashes.SHA256(), backend)\n",
    "digest.update(key)\n",
    "key = digest.finalize()\n",
    "iv = b\"initializationve\"\n",
    "\n",
    "# Pomiar czasu dla wszystkich trybów\n",
    "algorithms = {\n",
    "    \"ECB\": algorithms.AES(key),\n",
    "    \"CBC\": algorithms.AES(key),\n",
    "    \"OFB\": algorithms.AES(key),\n",
    "    \"CFB\": algorithms.AES(key),\n",
    "    \"CTR\": algorithms.AES(key)\n",
    "}\n",
    "\n",
    "modes = {\n",
    "    \"ECB\": modes.ECB,\n",
    "    \"CBC\": modes.CBC,\n",
    "    \"OFB\": modes.OFB,\n",
    "    \"CFB\": modes.CFB,\n",
    "    \"CTR\": modes.CTR\n",
    "}\n",
    "\n",
    "for mode_name, mode in modes.items():\n",
    "    print(f\"Mode: {mode_name}\")\n",
    "    for i in range(1, 4):\n",
    "        plaintext_size = len(plaintext) * i\n",
    "        print(f\"Plaintext size: {plaintext_size} bytes\")\n",
    "        encrypt_time, decrypt_time = measure_time(algorithms[mode_name], mode, plaintext[:plaintext_size], key, iv)\n",
    "        print(f\"Encryption time: {encrypt_time} seconds\")\n",
    "        print(f\"Decryption time: {decrypt_time} seconds\")\n",
    "    print()\n"
   ]
  },
  {
   "cell_type": "code",
   "execution_count": null,
   "metadata": {},
   "outputs": [],
   "source": []
  },
  {
   "cell_type": "markdown",
   "metadata": {},
   "source": [
    "### 2\n",
    "W trybie ECB błąd w jednym bloku szyfrogramu spowoduje błąd tylko w tym bloku. W trybie CBC błąd w jednym bloku szyfrogramu może wpłynąć na deszyfrowanie kolejnych bloków, ale tylko te, które są bezpośrednio po błędnym bloku. W trybach OFB, CFB i CTR błąd w jednym bloku szyfrogramu nie powinien wpływać na deszyfrowanie kolejnych bloków."
   ]
  },
  {
   "cell_type": "markdown",
   "metadata": {},
   "source": [
    "### 3\n"
   ]
  },
  {
   "cell_type": "code",
   "execution_count": null,
   "metadata": {},
   "outputs": [],
   "source": [
    "from cryptography.hazmat.primitives.ciphers import Cipher, algorithms, modes\n",
    "from cryptography.hazmat.backends import default_backend\n",
    "\n",
    "# Funkcja szyfrująca w trybie CBC\n",
    "def encrypt_CBC(plaintext, key, iv):\n",
    "    backend = default_backend()\n",
    "    cipher = Cipher(algorithms.AES(key), modes.CBC(iv), backend=backend)\n",
    "    encryptor = cipher.encryptor()\n",
    "    ciphertext = encryptor.update(plaintext) + encryptor.finalize()\n",
    "    return ciphertext\n",
    "\n",
    "# Funkcja deszyfrująca w trybie CBC\n",
    "def decrypt_CBC(ciphertext, key, iv):\n",
    "    backend = default_backend()\n",
    "    cipher = Cipher(algorithms.AES(key), modes.CBC(iv), backend=backend)\n",
    "    decryptor = cipher.decryptor()\n",
    "    plaintext = decryptor.update(ciphertext) + decryptor.finalize()\n",
    "    return plaintext\n",
    "\n",
    "# Przykładowe dane\n",
    "plaintext = b\"Lorem ipsum dolor sit amet, consectetur adipiscing elit.\"\n",
    "key = b\"supersecretpass\"\n",
    "iv = b\"initializationve\"\n",
    "\n",
    "# Szyfrowanie i deszyfrowanie w trybie CBC\n",
    "ciphertext = encrypt_CBC(plaintext, key, iv)\n",
    "decryptedtext = decrypt_CBC(ciphertext, key, iv)\n",
    "\n",
    "print(\"Plaintext:\", plaintext)\n",
    "print(\"Ciphertext:\", ciphertext)\n",
    "print(\"Decrypted text:\", decryptedtext)\n"
   ]
  }
 ],
 "metadata": {
  "kernelspec": {
   "display_name": "Python 3",
   "language": "python",
   "name": "python3"
  },
  "language_info": {
   "codemirror_mode": {
    "name": "ipython",
    "version": 3
   },
   "file_extension": ".py",
   "mimetype": "text/x-python",
   "name": "python",
   "nbconvert_exporter": "python",
   "pygments_lexer": "ipython3",
   "version": "3.9.7"
  }
 },
 "nbformat": 4,
 "nbformat_minor": 2
}
