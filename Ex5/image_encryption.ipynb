{
 "cells": [
  {
   "cell_type": "code",
   "execution_count": 3,
   "metadata": {},
   "outputs": [],
   "source": [
    "from PIL import Image\n",
    "\n",
    "width = 100\n",
    "height = 100\n",
    "\n",
    "# l - znaczy ze w skali szarosci\n",
    "image = Image.new(\"L\", (width, height), color=255)\n",
    "\n",
    "# dodanie czarnego paska\n",
    "for x in range(width):\n",
    "    for y in range(height):\n",
    "        if width // 3 <= x < 2 * (width // 3):\n",
    "            image.putpixel((x, y), 0)  \n",
    "\n",
    "image.save(\"sample_image.png\")\n",
    "image.show()"
   ]
  },
  {
   "cell_type": "code",
   "execution_count": null,
   "metadata": {},
   "outputs": [],
   "source": [
    "from PIL import Image\n",
    "import random\n",
    "\n",
    "def encrypt_image(image_path):\n",
    "    original_image = Image.open(image_path)\n",
    "    \n",
    "    share1 = Image.new(\"L\", (original_image.width, original_image.height))\n",
    "    share2 = Image.new(\"L\", (original_image.width, original_image.height))\n",
    "    \n",
    "    \n",
    "    for x in range(original_image.width):\n",
    "        for y in range(original_image.height):\n",
    "            pixel = original_image.getpixel((x, y))\n",
    "            # pobranie randomowych udzialow\n",
    "            random_share1 = random.randint(0, 255)\n",
    "            # wartosc pixela z org obrazu - random_share1 - modulo zeby w przedziale\n",
    "            random_share2 = (pixel - random_share1) % 256\n",
    "            share1.putpixel((x, y), random_share1)\n",
    "            share2.putpixel((x, y), random_share2)\n",
    "    \n",
    "    return share1, share2\n",
    "\n",
    "def decrypt_image(share1, share2):\n",
    "    decrypted_image = Image.new(\"L\", (share1.width, share1.height))\n",
    "    \n",
    "    for x in range(share1.width):\n",
    "        for y in range(share1.height):\n",
    "            pixel1 = share1.getpixel((x, y))\n",
    "            pixel2 = share2.getpixel((x, y))\n",
    "            # laczenie\n",
    "            decrypted_pixel = (pixel1 + pixel2) % 256\n",
    "            decrypted_image.putpixel((x, y), decrypted_pixel)\n",
    "    \n",
    "    return decrypted_image"
   ]
  },
  {
   "cell_type": "code",
   "execution_count": 4,
   "metadata": {},
   "outputs": [],
   "source": [
    "image_path = \"sample_image.png\"\n",
    "\n",
    "share1, share2 = encrypt_image(image_path)\n",
    "\n",
    "share1.save(\"share1.png\")\n",
    "share2.save(\"share2.png\")\n",
    "\n",
    "decrypted_image = decrypt_image(share1, share2)\n",
    "decrypted_image.save(\"decrypted_image.png\")\n"
   ]
  }
 ],
 "metadata": {
  "kernelspec": {
   "display_name": "Python 3",
   "language": "python",
   "name": "python3"
  },
  "language_info": {
   "codemirror_mode": {
    "name": "ipython",
    "version": 3
   },
   "file_extension": ".py",
   "mimetype": "text/x-python",
   "name": "python",
   "nbconvert_exporter": "python",
   "pygments_lexer": "ipython3",
   "version": "3.9.7"
  }
 },
 "nbformat": 4,
 "nbformat_minor": 2
}
