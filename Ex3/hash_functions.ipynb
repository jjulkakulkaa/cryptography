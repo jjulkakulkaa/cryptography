{
 "cells": [
  {
   "cell_type": "code",
   "execution_count": 61,
   "metadata": {},
   "outputs": [],
   "source": [
    "import hashlib\n",
    "import time as import_time\n",
    "import random\n",
    "import string\n",
    "\n",
    "def generate_hash(input_string, algorithms):\n",
    "    res = []\n",
    "    times = []\n",
    "    for algorithm in algorithms:\n",
    "        start_time = import_time.time()  # Start measuring time\n",
    "        if algorithm == \"MD5\":\n",
    "            res.append(hashlib.md5(input_string.encode()).hexdigest())\n",
    "        elif algorithm == \"SHA1\":\n",
    "            res.append(hashlib.sha1(input_string.encode()).hexdigest())\n",
    "        elif algorithm == \"SHA256\":\n",
    "            res.append(hashlib.sha256(input_string.encode()).hexdigest())\n",
    "        elif algorithm == \"SHA3_256\":\n",
    "            res.append(hashlib.sha3_256(input_string.encode()).hexdigest())\n",
    "        else:\n",
    "            res.append(0)\n",
    "        end_time = import_time.time()  # Stop measuring time\n",
    "        times.append(end_time - start_time)  # Calculate elapsed time\n",
    "    return res, times\n",
    "\n",
    "\n",
    "def generate_random_string(length):\n",
    "    letters = string.ascii_letters + string.digits + string.punctuation\n",
    "    return ''.join(random.choice(letters) for _ in range(length))\n"
   ]
  },
  {
   "cell_type": "code",
   "execution_count": 54,
   "metadata": {},
   "outputs": [
    {
     "name": "stdout",
     "output_type": "stream",
     "text": [
      "używając MD5: , czas: 0.00519108772277832\n",
      "używając SHA1: , czas: 0.0\n"
     ]
    }
   ],
   "source": [
    "\n",
    "input_string = generate_random_string(500000)\n",
    "algorithms = [\"MD5\", \"SHA1\"]\n",
    "results, times = generate_hash(input_string, algorithms)\n",
    "for alg, res, time in zip(algorithms, results, times):\n",
    "    print(f\"używając {alg}: , czas: {time}\")\n"
   ]
  },
  {
   "cell_type": "code",
   "execution_count": 67,
   "metadata": {},
   "outputs": [
    {
     "name": "stdout",
     "output_type": "stream",
     "text": [
      "długośc 100: \n",
      "MD5:  czas: 0.0, długość ciągu: 32\n",
      "SHA1:  czas: 0.0, długość ciągu: 40\n",
      "SHA256:  czas: 0.0, długość ciągu: 64\n",
      "SHA3_256:  czas: 0.0, długość ciągu: 64\n",
      "długośc 10000: \n",
      "MD5:  czas: 0.0, długość ciągu: 32\n",
      "SHA1:  czas: 0.0, długość ciągu: 40\n",
      "SHA256:  czas: 0.0, długość ciągu: 64\n",
      "SHA3_256:  czas: 0.0, długość ciągu: 64\n",
      "długośc 1000000: \n",
      "MD5:  czas: 0.0, długość ciągu: 32\n",
      "SHA1:  czas: 0.0, długość ciągu: 40\n",
      "SHA256:  czas: 0.0, długość ciągu: 64\n",
      "SHA3_256:  czas: 0.007929563522338867, długość ciągu: 64\n",
      "długośc 10000000: \n",
      "MD5:  czas: 0.014722824096679688, długość ciągu: 32\n",
      "SHA1:  czas: 0.0161435604095459, długość ciągu: 40\n",
      "SHA256:  czas: 0.00806283950805664, długość ciągu: 64\n",
      "SHA3_256:  czas: 0.032010555267333984, długość ciągu: 64\n",
      "długośc 50000000: \n",
      "MD5:  czas: 0.10128355026245117, długość ciągu: 32\n",
      "SHA1:  czas: 0.05615353584289551, długość ciągu: 40\n",
      "SHA256:  czas: 0.04880475997924805, długość ciągu: 64\n",
      "SHA3_256:  czas: 0.19389843940734863, długość ciągu: 64\n",
      "długośc 100000000: \n",
      "MD5:  czas: 0.24942302703857422, długość ciągu: 32\n",
      "SHA1:  czas: 0.11200881004333496, długość ciągu: 40\n",
      "SHA256:  czas: 0.17596983909606934, długość ciągu: 64\n",
      "SHA3_256:  czas: 0.45107126235961914, długość ciągu: 64\n",
      "długośc 50000000: \n",
      "MD5:  czas: 0.09697556495666504, długość ciągu: 32\n",
      "SHA1:  czas: 0.057585716247558594, długość ciągu: 40\n",
      "SHA256:  czas: 0.06620240211486816, długość ciągu: 64\n",
      "SHA3_256:  czas: 0.20059847831726074, długość ciągu: 64\n",
      "długośc 1000000000: \n",
      "MD5:  czas: 1.93403959274292, długość ciągu: 32\n",
      "SHA1:  czas: 1.056089162826538, długość ciągu: 40\n",
      "SHA256:  czas: 1.2664589881896973, długość ciągu: 64\n",
      "SHA3_256:  czas: 4.249283075332642, długość ciągu: 64\n"
     ]
    }
   ],
   "source": [
    "string_lengths = [100, 10000, 1000000, 10000000, 50000000, 100000000, 50000000]\n",
    "algorithms = [\"MD5\", \"SHA1\", \"SHA256\", \"SHA3_256\"]\n",
    "for length in string_lengths:\n",
    "    print(f\"długośc {length}: \")\n",
    "    input_string = generate_random_string(length)\n",
    "    results, times = generate_hash(input_string, algorithms)\n",
    "    for alg, res, time in zip(algorithms, results, times):\n",
    "        print(f\"{alg}:  czas: {time}, długość ciągu: {len(res)}\")\n",
    "\n"
   ]
  },
  {
   "cell_type": "code",
   "execution_count": 3,
   "metadata": {},
   "outputs": [
    {
     "name": "stdout",
     "output_type": "stream",
     "text": [
      "b'\\x7f\\x83\\xb1e\\x7f\\xf1\\xfcS\\xb9-\\xc1\\x81H\\xa1\\xd6]\\xfc-K\\x1f\\xa3\\xd6w(J\\xdd\\xd2\\x00\\x12m\\x90i'\n",
      "b'\\xd1\\x95\\xfe\\xb1?\\xe9*5\\xf9EDZ\\xa1\\x10\"\\xc8F\\xf7\\x0c\\xbf\\x1e\\xeb\\xfe\\xbc\\xd4\\xfe\\xb9c;\\xcfw\\x81'\n",
      "b')\\x8az>m\\xcb\\xac{\\x18\\t\\x85\\xae\\x08\\xe4dGLc8\\x08\\xb4\"\"F\\xbf=P\\xea\\xb0\\x7f\\xd6\\x95'\n",
      "b'\\r\\xfa\\xcf\\xa9c\\x19+\\xcc\\xc3\\xd5\\xb1\\xd8\\xdf\\x08l6\\xa5\\x83yg\\x0b5\\x04\\x05\\xe1-\\xddi\\xa2\\xf6J\\xb8'\n",
      "b'M\\xb4c!\\x9e\\xcb\\xa6\\xdf\\x8d\\xb0\\x87ip\\x03\\x16Z\\x84\\x0c\\xa9\\r{\\xb6\\xe7\\x10\\x8f\\x90D\\x8ft%s7'\n",
      "b'\\xf0\\xb9}\\\\L$\\x02iT\\xb4\\x04\\'\\xc1\\x8e\\xc2\\xf5\\xfa\\x16t\\x0c\\xdf\\xc5r|\"\\xb4(\\xd98F\\xabv'\n",
      "b'\\xe4\\xad\\x01\\x02\\xdc%#D33\\xd8\\x08\\xb9\\x1a\\x98\\x9bq\\xc2C\\x9dsb\\xac\\xa6S\\x8dI\\xf7k\\xaa\\xa5\\xca'\n",
      "b'_\\x96\\xadp-4\\xed\\xa9\\x08u\\xacKI\".v\\xf4\\x05?\\xc6\\x0f\\xee\\x89\\xf6\\xb9\\x1c\\x14\\x8c^\\t\\r\\xec'\n",
      "b'`\\xe9(\\xd7\\x18}@\\xab4k\\x06\\xb6Z\\r\\xb4\\xa5pt\\xe1\\x10;\\xed\\x15U\\x9e\\xf0\\xcb\\xceY\\x8fp{'\n",
      "b'6\\xecn\\x8c\\x81\\xb9\\xde<\\xa6,\\x1b\\xfc\\xd9NEL8>F\\x85;C\\xce\\xcd$\\xe1\\xf2\\xf5\\xde\\xae~\\x12'\n",
      "b'a\\xf9~\\xb2XU9\\xe5\\xed\\xc0\\x04\\x8b\\xee\\x00\\xbd\\x84,\\x1c\\xe6\\xae\\xbd\"\\xcfi\\xdb\\xfd\\xbc\\xe2\\xe4z&%'\n",
      "b'UA3\\x12\\x8e\\xb3\\x10[\\x9b\\xadf\\x1b\\x8d=\\x11\\x8b\\xcb\\xd9\\xd1V\\x8d\\xd2\\xfbp\\x08\\x7f\\x89\\x04\\x1b\\x0e\\x03\\xb0'\n",
      "b'\\xe2]\\xe8\\xf0\\xce\\x8a\\x17\\xf6\\xd6\\xb6\\x8a\\xaa\\xaa\\xd7\\xa11\\x1e\\xf4%\\x04\\x04\\xa7\"$\\xf0\\xb9\\xc5\\xc8\\xe3?\\x14\\xf3'\n",
      "b'\\x0c\\xd8K\\xd7\\x93kt\\xb0\\x8c\\xffl\\xb8\\x1c\\xa8\\x91\\r\\xc0O\\xa55m=\\xdfR\\xb0m\\xdd Z1\\x91K'\n",
      "b'\\x0c\\xc4\\x03\\x97\\x02G/i\\xee\\x85\\x0ev\\x890\\x82\\xde\\xb9s\\xf6\\r4\\xc7CGt\\xa2\\xca\\x94\\xcd$\\x87+'\n",
      "b'\\xa663{y\\x86-\\xb4\\x06\\xec\\xae\\xe5\\x11\\xca\\xca\\x8c\\x02P\\xe5\\xf5\\xceX\\xf8\\x8a\\xacl\\xb26d\\x82\\xd3M'\n",
      "b'L\\x84\\t\\x7f\\xafj\\xab(\\xaf\\x9b%\\xd5#\\xd2[\\x0bnW\\x04\\xea\\xda\\x98r=\\x9e\\\\\\x1cT\\x18\\x99\\x83\\xaa'\n",
      "b'\\xbfE\\xb0\\xcd01x\\x0fO6\\xceDPJ\\x84\\xbc\\t\\xc1\\xe8x`\\xc2\\xdaL\\x06\\xe3\\xcf\\xba:\\xabe\\x96'\n",
      "b\"\\xba\\xdd\\x9fW:v\\x14!t\\x8fh\\xf2\\x0f\\x01$%\\xb9\\x8aW_\\xe3\\xfe\\xc4}\\x1d\\xda?\\xb3\\xad'^}\"\n",
      "b' |\\xf2\\xd4\\xfaU\\xd6\\xa4\\xa1\\xa0\\x07h/{WM\\xef_\\x97\\xd9\\xc4\\xce\\x9fi\\x03\\xc5ZJ\\xabD\\xe3\\x99'\n",
      "b'd\\xde\\xa6ad\\x9a\\x8a+!\\xf9\\xc6\\xbb\\x97\\x04Q\\xf3\\x99,\\xa6s\\x81\\x98\\x11\\xea\\xae\\x1a\\xad\\xdbf\\x1b\\xaf\\xd9'\n",
      "b'0\\xc5\\xda\\x83\\xc9\\x17\\x8b\\xadC\\x9b\\x85\\xa0p\\xa8\\xf2\\x95/\\xe7`\\xec\\x90\\xdf\\xde\\xb4\\x0f\\xb2VO\\xbeK\\x02\\xcf'\n",
      "b'\\x80\\xb15D\\xb0?p\\xa1z\\xedn1\\xd4\\xec\\xdd&x\\x02k\\xf6\\xbe\\xda\\xcb>\\x9e\\x8b\\x9a\\xb6\\x8a\\x192\\xbc'\n",
      "b'\\x84\\xe2\\x05\\xe0j,\\x96\\xff\\x88\\xe6\\xd9\\x03\\x02Vj\\xbc$\\x9b\\xdb\\xde\\x80\\xb7~C\\n)\\xb8H\\x98\\xc3\\x83\\x07'\n",
      "b'M\\x07\\xc0@r\\xa03\\x96\\xa0\\x02\\xa3\\x7f\\xbe\\x10\\x9b1\\xfd\\xb1\\x94\\x0eJ.\\xf1\\x8fq\\x19$\\xf2+\\xaea\\xa6'\n",
      "b'Q\\xe4F\\x88\\x19\\xe9\\x81#\\x04\\x18\\x18u\\x0f0\\xd5\\xc1\\n4\\xaa1zU\\x85+\\xe15q}&\\x8b\\x14\\x07'\n",
      "b'X\\xcb/\\x1b\\xc5\\xa4\\xa8\\t\\x17>\\xd9\\xe9lP;\\x15S}\\x9b\\xcb\\x7fMhqK\\x8eO\\xcf\\x18\\xcef%'\n",
      "b'\\x17\\xf4\\r\\x07\\x95n\\x8dB0.\\xdc&\\xb1?\\x1f\\xf5\\xeb5X\\xf3\\xb23\\x99Z\\x07h\\xea\\xe8S\\x84f\\x89'\n",
      "b'f\\x83\\x07\\x1eq2\\xbc\\xb7:\\x08\\x81\\xd5x \\xeeK\\x01\\xaf\\x93\\xcb\\xde\\x0e\\xd1\\x9a\\xe8\\xc8\\x93\\x908\\x14\\xfa\\xe1'\n",
      "Funkcja nie spełnia kryterium SAC (Strict Avalanche Criteria) dla SHA-256.\n"
     ]
    }
   ],
   "source": [
    "import hashlib\n",
    "\n",
    "def test_sac(input_string):\n",
    "    original_hash = hashlib.sha256(input_string.encode()).digest()\n",
    "    print(original_hash)\n",
    "\n",
    "    for i in range(len(input_string) * 8):\n",
    "        modified_input = bytearray(input_string.encode())\n",
    "        modified_input[i // 8] ^= (1 << (i % 8))  # zmiana pojedynczego bitu \n",
    "        modified_hash = hashlib.sha256(bytes(modified_input)).digest()\n",
    "        print(modified_hash)\n",
    "\n",
    "        # Sprawdzenie, czy wszystkie bity są różne\n",
    "        for j in range(len(original_hash)):\n",
    "            if original_hash[j] == modified_hash[j]:\n",
    "                return False\n",
    "    return True\n",
    "\n",
    "\n",
    "# Przykładowe wejście\n",
    "input_string = \"Hello World!\"\n",
    "\n",
    "# Testowanie kryterium SAC dla SHA-256\n",
    "if test_sac(input_string):\n",
    "    print(\"Funkcja spełnia kryterium SAC (Strict Avalanche Criteria) dla SHA-256.\")\n",
    "else:\n",
    "    print(\"Funkcja nie spełnia kryterium SAC (Strict Avalanche Criteria) dla SHA-256.\")\n"
   ]
  }
 ],
 "metadata": {
  "kernelspec": {
   "display_name": "Python 3",
   "language": "python",
   "name": "python3"
  },
  "language_info": {
   "codemirror_mode": {
    "name": "ipython",
    "version": 3
   },
   "file_extension": ".py",
   "mimetype": "text/x-python",
   "name": "python",
   "nbconvert_exporter": "python",
   "pygments_lexer": "ipython3",
   "version": "3.9.7"
  }
 },
 "nbformat": 4,
 "nbformat_minor": 2
}
